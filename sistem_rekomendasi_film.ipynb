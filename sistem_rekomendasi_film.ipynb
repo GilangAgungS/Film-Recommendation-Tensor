{
 "cells": [
  {
   "cell_type": "markdown",
   "metadata": {},
   "source": [
    "# Sistem Rekomendasi Film dengan TensorFlow\n",
    "source: https://www.youtube.com/watch?v=6N2vo3JZg2c&list=PL3VpLbLyLE56IVsWwn_rlv9IGGNiyab9e&t=4127s\n",
    "\n",
    "tahap dalam pembuatan sistem rekomendasi film:\n",
    "1. Load dataset\n",
    "2. Pisah data (train dan test)\n",
    "3. Membuat model\n",
    "4. Training model\n",
    "5. Mencoba Model yang Telah Dibuat\n",
    "5. Menyimpan model"
   ]
  },
  {
   "cell_type": "markdown",
   "metadata": {},
   "source": [
    "### Import library untuk dataset"
   ]
  },
  {
   "cell_type": "code",
   "execution_count": 653,
   "metadata": {},
   "outputs": [],
   "source": [
    "import pandas as pd\n",
    "import numpy as np\n",
    "import matplotlib.pyplot as plt\n",
    "import seaborn as sns"
   ]
  },
  {
   "cell_type": "markdown",
   "metadata": {},
   "source": [
    "### 1. Load dataset"
   ]
  },
  {
   "cell_type": "code",
   "execution_count": 654,
   "metadata": {},
   "outputs": [
    {
     "data": {
      "text/html": [
       "<div>\n",
       "<style scoped>\n",
       "    .dataframe tbody tr th:only-of-type {\n",
       "        vertical-align: middle;\n",
       "    }\n",
       "\n",
       "    .dataframe tbody tr th {\n",
       "        vertical-align: top;\n",
       "    }\n",
       "\n",
       "    .dataframe thead th {\n",
       "        text-align: right;\n",
       "    }\n",
       "</style>\n",
       "<table border=\"1\" class=\"dataframe\">\n",
       "  <thead>\n",
       "    <tr style=\"text-align: right;\">\n",
       "      <th></th>\n",
       "      <th>movie_id</th>\n",
       "      <th>user_id</th>\n",
       "      <th>user_rating</th>\n",
       "    </tr>\n",
       "  </thead>\n",
       "  <tbody>\n",
       "    <tr>\n",
       "      <th>18877</th>\n",
       "      <td>591</td>\n",
       "      <td>715</td>\n",
       "      <td>4.0</td>\n",
       "    </tr>\n",
       "    <tr>\n",
       "      <th>12909</th>\n",
       "      <td>209</td>\n",
       "      <td>292</td>\n",
       "      <td>5.0</td>\n",
       "    </tr>\n",
       "    <tr>\n",
       "      <th>90043</th>\n",
       "      <td>304</td>\n",
       "      <td>30</td>\n",
       "      <td>4.0</td>\n",
       "    </tr>\n",
       "    <tr>\n",
       "      <th>71608</th>\n",
       "      <td>200</td>\n",
       "      <td>546</td>\n",
       "      <td>5.0</td>\n",
       "    </tr>\n",
       "    <tr>\n",
       "      <th>19007</th>\n",
       "      <td>95</td>\n",
       "      <td>454</td>\n",
       "      <td>2.0</td>\n",
       "    </tr>\n",
       "  </tbody>\n",
       "</table>\n",
       "</div>"
      ],
      "text/plain": [
       "       movie_id  user_id  user_rating\n",
       "18877       591      715          4.0\n",
       "12909       209      292          5.0\n",
       "90043       304       30          4.0\n",
       "71608       200      546          5.0\n",
       "19007        95      454          2.0"
      ]
     },
     "execution_count": 654,
     "metadata": {},
     "output_type": "execute_result"
    }
   ],
   "source": [
    "ratings = pd.read_csv('ratings.csv')\n",
    "ratings.sample(5)"
   ]
  },
  {
   "cell_type": "code",
   "execution_count": 655,
   "metadata": {},
   "outputs": [
    {
     "data": {
      "text/html": [
       "<div>\n",
       "<style scoped>\n",
       "    .dataframe tbody tr th:only-of-type {\n",
       "        vertical-align: middle;\n",
       "    }\n",
       "\n",
       "    .dataframe tbody tr th {\n",
       "        vertical-align: top;\n",
       "    }\n",
       "\n",
       "    .dataframe thead th {\n",
       "        text-align: right;\n",
       "    }\n",
       "</style>\n",
       "<table border=\"1\" class=\"dataframe\">\n",
       "  <thead>\n",
       "    <tr style=\"text-align: right;\">\n",
       "      <th></th>\n",
       "      <th>movie_id</th>\n",
       "      <th>movie_title</th>\n",
       "      <th>movie_genres_str</th>\n",
       "    </tr>\n",
       "  </thead>\n",
       "  <tbody>\n",
       "    <tr>\n",
       "      <th>1166</th>\n",
       "      <td>1167</td>\n",
       "      <td>Sum of Us, The (1994)</td>\n",
       "      <td>[\"Children's\"]</td>\n",
       "    </tr>\n",
       "    <tr>\n",
       "      <th>312</th>\n",
       "      <td>313</td>\n",
       "      <td>Titanic (1997)</td>\n",
       "      <td>['unknown', 'Documentary', 'Romance']</td>\n",
       "    </tr>\n",
       "    <tr>\n",
       "      <th>1295</th>\n",
       "      <td>1296</td>\n",
       "      <td>Indian Summer (1996)</td>\n",
       "      <td>[\"Children's\", 'Documentary']</td>\n",
       "    </tr>\n",
       "    <tr>\n",
       "      <th>526</th>\n",
       "      <td>527</td>\n",
       "      <td>Gandhi (1982)</td>\n",
       "      <td>['Documentary']</td>\n",
       "    </tr>\n",
       "    <tr>\n",
       "      <th>352</th>\n",
       "      <td>353</td>\n",
       "      <td>Deep Rising (1998)</td>\n",
       "      <td>['unknown', 'Film-Noir', 'Sci-Fi']</td>\n",
       "    </tr>\n",
       "  </tbody>\n",
       "</table>\n",
       "</div>"
      ],
      "text/plain": [
       "      movie_id            movie_title                       movie_genres_str\n",
       "1166      1167  Sum of Us, The (1994)                         [\"Children's\"]\n",
       "312        313         Titanic (1997)  ['unknown', 'Documentary', 'Romance']\n",
       "1295      1296   Indian Summer (1996)          [\"Children's\", 'Documentary']\n",
       "526        527          Gandhi (1982)                        ['Documentary']\n",
       "352        353     Deep Rising (1998)     ['unknown', 'Film-Noir', 'Sci-Fi']"
      ]
     },
     "execution_count": 655,
     "metadata": {},
     "output_type": "execute_result"
    }
   ],
   "source": [
    "movies = pd.read_csv('movies.csv')\n",
    "movies.sample(5)"
   ]
  },
  {
   "cell_type": "code",
   "execution_count": 656,
   "metadata": {},
   "outputs": [
    {
     "name": "stdout",
     "output_type": "stream",
     "text": [
      "jumlah film: 1682\n",
      "jumlah user: 943\n",
      "\n",
      "jumlah rating yang diberikan:\n",
      "5.0    21201\n",
      "4.0    34174\n",
      "3.0    27145\n",
      "2.0    11370\n",
      "1.0     6110\n",
      "Name: user_rating, dtype: int64\n"
     ]
    },
    {
     "data": {
      "image/png": "[encoded data removed]",
      "text/plain": [
       "<Figure size 432x288 with 1 Axes>"
      ]
     },
     "metadata": {
      "needs_background": "light"
     },
     "output_type": "display_data"
    }
   ],
   "source": [
    "#melihat jumlah film dan user\n",
    "jml_movie = movies['movie_id'].nunique()\n",
    "jml_user = ratings['user_id'].nunique()\n",
    "print(\"jumlah film:\", jml_movie)\n",
    "print(\"jumlah user:\", jml_user)\n",
    "\n",
    "#melihat jumlah rating yang diberikan \n",
    "sns.countplot(data=ratings, x='user_rating').set_title('Jumlah Rating yang diberikan')\n",
    "print('\\njumlah rating yang diberikan:')\n",
    "print(ratings['user_rating'].value_counts().sort_index(ascending=False))\n"
   ]
  },
  {
   "cell_type": "markdown",
   "metadata": {},
   "source": [
    "informasi: \n",
    "- Data film sebanyak 1682 data, dengan 943 user\n",
    "- Jumlah rating terbanyak adalah 4, dan paling sedikit adalah 1"
   ]
  },
  {
   "cell_type": "markdown",
   "metadata": {},
   "source": [
    "### 2. Pisah data (train dan test)"
   ]
  },
  {
   "cell_type": "code",
   "execution_count": 657,
   "metadata": {},
   "outputs": [
    {
     "name": "stdout",
     "output_type": "stream",
     "text": [
      "jumlah data train: (80000, 3)\n",
      "jumlah data test : (20000, 3)\n"
     ]
    }
   ],
   "source": [
    "from sklearn.model_selection import train_test_split\n",
    "data_train, data_test = train_test_split(ratings, test_size=0.2, random_state=42)\n",
    "\n",
    "print(\"jumlah data train:\", data_train.shape)\n",
    "print(\"jumlah data test :\", data_test.shape)"
   ]
  },
  {
   "cell_type": "code",
   "execution_count": 658,
   "metadata": {},
   "outputs": [
    {
     "data": {
      "text/html": [
       "<div>\n",
       "<style scoped>\n",
       "    .dataframe tbody tr th:only-of-type {\n",
       "        vertical-align: middle;\n",
       "    }\n",
       "\n",
       "    .dataframe tbody tr th {\n",
       "        vertical-align: top;\n",
       "    }\n",
       "\n",
       "    .dataframe thead th {\n",
       "        text-align: right;\n",
       "    }\n",
       "</style>\n",
       "<table border=\"1\" class=\"dataframe\">\n",
       "  <thead>\n",
       "    <tr style=\"text-align: right;\">\n",
       "      <th></th>\n",
       "      <th>movie_id</th>\n",
       "      <th>user_id</th>\n",
       "      <th>user_rating</th>\n",
       "    </tr>\n",
       "  </thead>\n",
       "  <tbody>\n",
       "    <tr>\n",
       "      <th>75220</th>\n",
       "      <td>1016</td>\n",
       "      <td>109</td>\n",
       "      <td>5.0</td>\n",
       "    </tr>\n",
       "    <tr>\n",
       "      <th>48955</th>\n",
       "      <td>64</td>\n",
       "      <td>316</td>\n",
       "      <td>4.0</td>\n",
       "    </tr>\n",
       "    <tr>\n",
       "      <th>44966</th>\n",
       "      <td>89</td>\n",
       "      <td>200</td>\n",
       "      <td>5.0</td>\n",
       "    </tr>\n",
       "    <tr>\n",
       "      <th>13568</th>\n",
       "      <td>174</td>\n",
       "      <td>109</td>\n",
       "      <td>5.0</td>\n",
       "    </tr>\n",
       "    <tr>\n",
       "      <th>92727</th>\n",
       "      <td>204</td>\n",
       "      <td>788</td>\n",
       "      <td>3.0</td>\n",
       "    </tr>\n",
       "    <tr>\n",
       "      <th>...</th>\n",
       "      <td>...</td>\n",
       "      <td>...</td>\n",
       "      <td>...</td>\n",
       "    </tr>\n",
       "    <tr>\n",
       "      <th>6265</th>\n",
       "      <td>125</td>\n",
       "      <td>25</td>\n",
       "      <td>5.0</td>\n",
       "    </tr>\n",
       "    <tr>\n",
       "      <th>54886</th>\n",
       "      <td>156</td>\n",
       "      <td>704</td>\n",
       "      <td>3.0</td>\n",
       "    </tr>\n",
       "    <tr>\n",
       "      <th>76820</th>\n",
       "      <td>288</td>\n",
       "      <td>422</td>\n",
       "      <td>3.0</td>\n",
       "    </tr>\n",
       "    <tr>\n",
       "      <th>860</th>\n",
       "      <td>168</td>\n",
       "      <td>198</td>\n",
       "      <td>4.0</td>\n",
       "    </tr>\n",
       "    <tr>\n",
       "      <th>15795</th>\n",
       "      <td>864</td>\n",
       "      <td>181</td>\n",
       "      <td>2.0</td>\n",
       "    </tr>\n",
       "  </tbody>\n",
       "</table>\n",
       "<p>80000 rows × 3 columns</p>\n",
       "</div>"
      ],
      "text/plain": [
       "       movie_id  user_id  user_rating\n",
       "75220      1016      109          5.0\n",
       "48955        64      316          4.0\n",
       "44966        89      200          5.0\n",
       "13568       174      109          5.0\n",
       "92727       204      788          3.0\n",
       "...         ...      ...          ...\n",
       "6265        125       25          5.0\n",
       "54886       156      704          3.0\n",
       "76820       288      422          3.0\n",
       "860         168      198          4.0\n",
       "15795       864      181          2.0\n",
       "\n",
       "[80000 rows x 3 columns]"
      ]
     },
     "execution_count": 658,
     "metadata": {},
     "output_type": "execute_result"
    }
   ],
   "source": [
    "data_train"
   ]
  },
  {
   "cell_type": "code",
   "execution_count": 659,
   "metadata": {},
   "outputs": [
    {
     "data": {
      "text/html": [
       "<div>\n",
       "<style scoped>\n",
       "    .dataframe tbody tr th:only-of-type {\n",
       "        vertical-align: middle;\n",
       "    }\n",
       "\n",
       "    .dataframe tbody tr th {\n",
       "        vertical-align: top;\n",
       "    }\n",
       "\n",
       "    .dataframe thead th {\n",
       "        text-align: right;\n",
       "    }\n",
       "</style>\n",
       "<table border=\"1\" class=\"dataframe\">\n",
       "  <thead>\n",
       "    <tr style=\"text-align: right;\">\n",
       "      <th></th>\n",
       "      <th>movie_id</th>\n",
       "      <th>user_id</th>\n",
       "      <th>user_rating</th>\n",
       "    </tr>\n",
       "  </thead>\n",
       "  <tbody>\n",
       "    <tr>\n",
       "      <th>75721</th>\n",
       "      <td>876</td>\n",
       "      <td>817</td>\n",
       "      <td>4.0</td>\n",
       "    </tr>\n",
       "    <tr>\n",
       "      <th>80184</th>\n",
       "      <td>580</td>\n",
       "      <td>83</td>\n",
       "      <td>4.0</td>\n",
       "    </tr>\n",
       "    <tr>\n",
       "      <th>19864</th>\n",
       "      <td>393</td>\n",
       "      <td>389</td>\n",
       "      <td>2.0</td>\n",
       "    </tr>\n",
       "    <tr>\n",
       "      <th>76699</th>\n",
       "      <td>54</td>\n",
       "      <td>774</td>\n",
       "      <td>1.0</td>\n",
       "    </tr>\n",
       "    <tr>\n",
       "      <th>92991</th>\n",
       "      <td>420</td>\n",
       "      <td>712</td>\n",
       "      <td>3.0</td>\n",
       "    </tr>\n",
       "    <tr>\n",
       "      <th>...</th>\n",
       "      <td>...</td>\n",
       "      <td>...</td>\n",
       "      <td>...</td>\n",
       "    </tr>\n",
       "    <tr>\n",
       "      <th>32595</th>\n",
       "      <td>144</td>\n",
       "      <td>823</td>\n",
       "      <td>5.0</td>\n",
       "    </tr>\n",
       "    <tr>\n",
       "      <th>29313</th>\n",
       "      <td>639</td>\n",
       "      <td>339</td>\n",
       "      <td>4.0</td>\n",
       "    </tr>\n",
       "    <tr>\n",
       "      <th>37862</th>\n",
       "      <td>222</td>\n",
       "      <td>763</td>\n",
       "      <td>5.0</td>\n",
       "    </tr>\n",
       "    <tr>\n",
       "      <th>53421</th>\n",
       "      <td>419</td>\n",
       "      <td>399</td>\n",
       "      <td>3.0</td>\n",
       "    </tr>\n",
       "    <tr>\n",
       "      <th>42410</th>\n",
       "      <td>340</td>\n",
       "      <td>294</td>\n",
       "      <td>4.0</td>\n",
       "    </tr>\n",
       "  </tbody>\n",
       "</table>\n",
       "<p>20000 rows × 3 columns</p>\n",
       "</div>"
      ],
      "text/plain": [
       "       movie_id  user_id  user_rating\n",
       "75721       876      817          4.0\n",
       "80184       580       83          4.0\n",
       "19864       393      389          2.0\n",
       "76699        54      774          1.0\n",
       "92991       420      712          3.0\n",
       "...         ...      ...          ...\n",
       "32595       144      823          5.0\n",
       "29313       639      339          4.0\n",
       "37862       222      763          5.0\n",
       "53421       419      399          3.0\n",
       "42410       340      294          4.0\n",
       "\n",
       "[20000 rows x 3 columns]"
      ]
     },
     "execution_count": 659,
     "metadata": {},
     "output_type": "execute_result"
    }
   ],
   "source": [
    "data_test"
   ]
  },
  {
   "cell_type": "markdown",
   "metadata": {},
   "source": [
    "### 3. Membuat Model\n",
    "\n",
    "dalam tensorflow keras model terdapat input layer, hidden layer, dan output layer\n",
    "\n",
    "data masuk ke input layer, kemudian diolah oleh hidden layer, dan hasilnya akan keluar dari output layer\n",
    "\n",
    "hasil yang dikeluarkan oleh output layer adalah nilai prediksi"
   ]
  },
  {
   "cell_type": "code",
   "execution_count": 694,
   "metadata": {},
   "outputs": [],
   "source": [
    "#import tensorflow keras\n",
    "from tensorflow.keras.models import Model \n",
    "from tensorflow.keras.layers import Input, Embedding, Flatten, Dot\n",
    "\n",
    "#membuat input layer dari movie dan user, ukuran masing-masing input adalah 1\n",
    "movie_input = Input(shape=[1])\n",
    "user_input = Input(shape=[1])\n",
    "\n",
    "#membuat embedding layer untuk movie dan user\n",
    "#semakin banyak size embedding, semakin banyak informasi yang dapat dikenali oleh model\n",
    "#semakin banyak size embedding, rawan untuk overfitting\n",
    "#jika size embedding terlalu kecil, maka model akan menghafalkan data, sarannya jadi itu-itu aja\n",
    "embedding_size = 40\n",
    "movie_embedding = Embedding(jml_movie+1, embedding_size)(movie_input)\n",
    "user_embedding = Embedding(jml_user+1, embedding_size)(user_input)\n",
    "\n",
    "#membuat flatten layer\n",
    "#flatten layer bertujuan untuk mengubah bentuk data menjadi 1 dimensi\n",
    "movie_flatten = Flatten()(movie_embedding)\n",
    "user_flatten = Flatten()(user_embedding)\n",
    "\n",
    "#membuat output layer\n",
    "#output layer bertujuan untuk menghasilkan nilai rating\n",
    "output = Dot(axes=1)([movie_flatten, user_flatten])\n",
    "\n",
    "#membuat model\n",
    "model = Model([movie_input, user_input], output)\n"
   ]
  },
  {
   "cell_type": "code",
   "execution_count": 695,
   "metadata": {},
   "outputs": [
    {
     "name": "stdout",
     "output_type": "stream",
     "text": [
      "Model: \"model_36\"\n",
      "__________________________________________________________________________________________________\n",
      " Layer (type)                   Output Shape         Param #     Connected to                     \n",
      "==================================================================================================\n",
      " input_75 (InputLayer)          [(None, 1)]          0           []                               \n",
      "                                                                                                  \n",
      " input_76 (InputLayer)          [(None, 1)]          0           []                               \n",
      "                                                                                                  \n",
      " embedding_74 (Embedding)       (None, 1, 40)        67320       ['input_75[0][0]']               \n",
      "                                                                                                  \n",
      " embedding_75 (Embedding)       (None, 1, 40)        37760       ['input_76[0][0]']               \n",
      "                                                                                                  \n",
      " flatten_74 (Flatten)           (None, 40)           0           ['embedding_74[0][0]']           \n",
      "                                                                                                  \n",
      " flatten_75 (Flatten)           (None, 40)           0           ['embedding_75[0][0]']           \n",
      "                                                                                                  \n",
      " dot_37 (Dot)                   (None, 1)            0           ['flatten_74[0][0]',             \n",
      "                                                                  'flatten_75[0][0]']             \n",
      "                                                                                                  \n",
      "==================================================================================================\n",
      "Total params: 105,080\n",
      "Trainable params: 105,080\n",
      "Non-trainable params: 0\n",
      "__________________________________________________________________________________________________\n"
     ]
    }
   ],
   "source": [
    "model.summary()"
   ]
  },
  {
   "cell_type": "markdown",
   "metadata": {},
   "source": [
    "### 4. Training Model"
   ]
  },
  {
   "cell_type": "code",
   "execution_count": null,
   "metadata": {},
   "outputs": [],
   "source": [
    "from tensorflow.keras.optimizers import Adam\n",
    "model.compile(optimizer='adam', loss='mse')"
   ]
  },
  {
   "cell_type": "code",
   "execution_count": 697,
   "metadata": {},
   "outputs": [
    {
     "name": "stdout",
     "output_type": "stream",
     "text": [
      "Epoch 1/20\n",
      "313/313 [==============================] - 1s 2ms/step - loss: 13.4141 - val_loss: 11.5266\n",
      "Epoch 2/20\n",
      "313/313 [==============================] - 1s 2ms/step - loss: 5.7194 - val_loss: 2.0924\n",
      "Epoch 3/20\n",
      "313/313 [==============================] - 1s 2ms/step - loss: 1.4972 - val_loss: 1.1994\n",
      "Epoch 4/20\n",
      "313/313 [==============================] - 1s 2ms/step - loss: 1.0580 - val_loss: 1.0113\n",
      "Epoch 5/20\n",
      "313/313 [==============================] - 1s 2ms/step - loss: 0.9357 - val_loss: 0.9474\n",
      "Epoch 6/20\n",
      "313/313 [==============================] - 1s 2ms/step - loss: 0.8832 - val_loss: 0.9185\n",
      "Epoch 7/20\n",
      "313/313 [==============================] - 1s 2ms/step - loss: 0.8534 - val_loss: 0.8998\n",
      "Epoch 8/20\n",
      "313/313 [==============================] - 1s 2ms/step - loss: 0.8324 - val_loss: 0.8902\n",
      "Epoch 9/20\n",
      "313/313 [==============================] - 1s 2ms/step - loss: 0.8147 - val_loss: 0.8829\n",
      "Epoch 10/20\n",
      "313/313 [==============================] - 1s 2ms/step - loss: 0.7999 - val_loss: 0.8741\n",
      "Epoch 11/20\n",
      "313/313 [==============================] - 1s 2ms/step - loss: 0.7860 - val_loss: 0.8710\n",
      "Epoch 12/20\n",
      "313/313 [==============================] - 1s 2ms/step - loss: 0.7730 - val_loss: 0.8690\n",
      "Epoch 13/20\n",
      "313/313 [==============================] - 1s 2ms/step - loss: 0.7601 - val_loss: 0.8649\n",
      "Epoch 14/20\n",
      "313/313 [==============================] - 1s 2ms/step - loss: 0.7472 - val_loss: 0.8626\n",
      "Epoch 15/20\n",
      "313/313 [==============================] - 1s 2ms/step - loss: 0.7332 - val_loss: 0.8600\n",
      "Epoch 16/20\n",
      "313/313 [==============================] - 1s 2ms/step - loss: 0.7198 - val_loss: 0.8573\n",
      "Epoch 17/20\n",
      "313/313 [==============================] - 1s 2ms/step - loss: 0.7055 - val_loss: 0.8547\n",
      "Epoch 18/20\n",
      "313/313 [==============================] - 1s 2ms/step - loss: 0.6899 - val_loss: 0.8557\n",
      "Epoch 19/20\n",
      "313/313 [==============================] - 1s 2ms/step - loss: 0.6744 - val_loss: 0.8542\n",
      "Epoch 20/20\n",
      "313/313 [==============================] - 1s 2ms/step - loss: 0.6576 - val_loss: 0.8529\n"
     ]
    }
   ],
   "source": [
    "#training model\n",
    "history = model.fit(x=[data_train.movie_id, data_train.user_id], y=data_train.user_rating, \n",
    "                    validation_data=([data_test.movie_id, data_test.user_id], data_test.user_rating),\n",
    "                    epochs=20, \n",
    "                    batch_size=256, \n",
    "                    verbose=1)"
   ]
  },
  {
   "cell_type": "code",
   "execution_count": 698,
   "metadata": {},
   "outputs": [
    {
     "data": {
      "text/plain": [
       "[<matplotlib.lines.Line2D at 0x2188e7b3ca0>,\n",
       " <matplotlib.lines.Line2D at 0x2188e7b3d00>]"
      ]
     },
     "execution_count": 698,
     "metadata": {},
     "output_type": "execute_result"
    },
    {
     "data": {
      "image/png": "[encoded data removed]",
      "text/plain": [
       "<Figure size 432x288 with 1 Axes>"
      ]
     },
     "metadata": {
      "needs_background": "light"
     },
     "output_type": "display_data"
    }
   ],
   "source": [
    "import matplotlib.pyplot as plt\n",
    "\n",
    "losses = pd.DataFrame(history.history)\n",
    "plt.plot(losses)"
   ]
  },
  {
   "cell_type": "code",
   "execution_count": 699,
   "metadata": {},
   "outputs": [
    {
     "name": "stdout",
     "output_type": "stream",
     "text": [
      "625/625 [==============================] - 1s 1ms/step - loss: 0.8529\n"
     ]
    },
    {
     "data": {
      "text/plain": [
       "0.852933406829834"
      ]
     },
     "execution_count": 699,
     "metadata": {},
     "output_type": "execute_result"
    }
   ],
   "source": [
    "#evaluasi model\n",
    "model.evaluate([data_test.movie_id, data_test.user_id], data_test.user_rating)"
   ]
  },
  {
   "cell_type": "markdown",
   "metadata": {},
   "source": [
    "### 5. Mencoba Model yang Telah Dibuat"
   ]
  },
  {
   "cell_type": "code",
   "execution_count": 706,
   "metadata": {},
   "outputs": [
    {
     "name": "stdout",
     "output_type": "stream",
     "text": [
      "Recommendations for user 898\n"
     ]
    },
    {
     "data": {
      "text/html": [
       "<div>\n",
       "<style scoped>\n",
       "    .dataframe tbody tr th:only-of-type {\n",
       "        vertical-align: middle;\n",
       "    }\n",
       "\n",
       "    .dataframe tbody tr th {\n",
       "        vertical-align: top;\n",
       "    }\n",
       "\n",
       "    .dataframe thead th {\n",
       "        text-align: right;\n",
       "    }\n",
       "</style>\n",
       "<table border=\"1\" class=\"dataframe\">\n",
       "  <thead>\n",
       "    <tr style=\"text-align: right;\">\n",
       "      <th></th>\n",
       "      <th>movie_id</th>\n",
       "      <th>movie_title</th>\n",
       "      <th>movie_genres_str</th>\n",
       "      <th>predicted_rating</th>\n",
       "    </tr>\n",
       "  </thead>\n",
       "  <tbody>\n",
       "    <tr>\n",
       "      <th>1061</th>\n",
       "      <td>1062</td>\n",
       "      <td>Four Days in September (1997)</td>\n",
       "      <td>['Documentary']</td>\n",
       "      <td>4.143601</td>\n",
       "    </tr>\n",
       "    <tr>\n",
       "      <th>1374</th>\n",
       "      <td>1375</td>\n",
       "      <td>Cement Garden, The (1993)</td>\n",
       "      <td>['Documentary']</td>\n",
       "      <td>4.124920</td>\n",
       "    </tr>\n",
       "    <tr>\n",
       "      <th>250</th>\n",
       "      <td>251</td>\n",
       "      <td>Shall We Dance? (1996)</td>\n",
       "      <td>[\"Children's\"]</td>\n",
       "      <td>4.114912</td>\n",
       "    </tr>\n",
       "    <tr>\n",
       "      <th>63</th>\n",
       "      <td>64</td>\n",
       "      <td>Shawshank Redemption, The (1994)</td>\n",
       "      <td>['Documentary']</td>\n",
       "      <td>4.112844</td>\n",
       "    </tr>\n",
       "    <tr>\n",
       "      <th>1448</th>\n",
       "      <td>1449</td>\n",
       "      <td>Pather Panchali (1955)</td>\n",
       "      <td>['Documentary']</td>\n",
       "      <td>4.087864</td>\n",
       "    </tr>\n",
       "    <tr>\n",
       "      <th>301</th>\n",
       "      <td>302</td>\n",
       "      <td>L.A. Confidential (1997)</td>\n",
       "      <td>['Comedy', 'Fantasy', 'Mystery', 'Thriller']</td>\n",
       "      <td>4.066600</td>\n",
       "    </tr>\n",
       "    <tr>\n",
       "      <th>11</th>\n",
       "      <td>12</td>\n",
       "      <td>Usual Suspects, The (1995)</td>\n",
       "      <td>['Comedy', 'Thriller']</td>\n",
       "      <td>4.043415</td>\n",
       "    </tr>\n",
       "    <tr>\n",
       "      <th>1366</th>\n",
       "      <td>1367</td>\n",
       "      <td>Faust (1994)</td>\n",
       "      <td>['Adventure']</td>\n",
       "      <td>4.041574</td>\n",
       "    </tr>\n",
       "    <tr>\n",
       "      <th>168</th>\n",
       "      <td>169</td>\n",
       "      <td>Wrong Trousers, The (1993)</td>\n",
       "      <td>['Adventure', \"Children's\"]</td>\n",
       "      <td>4.034768</td>\n",
       "    </tr>\n",
       "    <tr>\n",
       "      <th>317</th>\n",
       "      <td>318</td>\n",
       "      <td>Schindler's List (1993)</td>\n",
       "      <td>['Documentary', 'Western']</td>\n",
       "      <td>4.017389</td>\n",
       "    </tr>\n",
       "  </tbody>\n",
       "</table>\n",
       "</div>"
      ],
      "text/plain": [
       "      movie_id                       movie_title  \\\n",
       "1061      1062     Four Days in September (1997)   \n",
       "1374      1375         Cement Garden, The (1993)   \n",
       "250        251            Shall We Dance? (1996)   \n",
       "63          64  Shawshank Redemption, The (1994)   \n",
       "1448      1449            Pather Panchali (1955)   \n",
       "301        302          L.A. Confidential (1997)   \n",
       "11          12        Usual Suspects, The (1995)   \n",
       "1366      1367                      Faust (1994)   \n",
       "168        169        Wrong Trousers, The (1993)   \n",
       "317        318           Schindler's List (1993)   \n",
       "\n",
       "                                  movie_genres_str  predicted_rating  \n",
       "1061                               ['Documentary']          4.143601  \n",
       "1374                               ['Documentary']          4.124920  \n",
       "250                                 [\"Children's\"]          4.114912  \n",
       "63                                 ['Documentary']          4.112844  \n",
       "1448                               ['Documentary']          4.087864  \n",
       "301   ['Comedy', 'Fantasy', 'Mystery', 'Thriller']          4.066600  \n",
       "11                          ['Comedy', 'Thriller']          4.043415  \n",
       "1366                                 ['Adventure']          4.041574  \n",
       "168                    ['Adventure', \"Children's\"]          4.034768  \n",
       "317                     ['Documentary', 'Western']          4.017389  "
      ]
     },
     "execution_count": 706,
     "metadata": {},
     "output_type": "execute_result"
    }
   ],
   "source": [
    "import numpy as np\n",
    "import matplotlib.pyplot as plt\n",
    "\n",
    "def get_recommendations(user_id, movies, model):\n",
    "  movies = movies.copy()\n",
    "  user_ids = np.array([user_id] * len(movies))\n",
    "  results = model([movies.movie_id.values, user_ids]).numpy().reshape(-1)\n",
    "\n",
    "  movies['predicted_rating'] = pd.Series(results)\n",
    "  movies = movies.sort_values('predicted_rating', ascending=False)\n",
    "\n",
    "  print(f'Recommendations for user {user_id}')\n",
    "  return movies\n",
    "\n",
    "get_recommendations(898, movies, model).head(10)"
   ]
  },
  {
   "cell_type": "markdown",
   "metadata": {},
   "source": [
    "### 6. Menyimpan Model"
   ]
  },
  {
   "cell_type": "markdown",
   "metadata": {},
   "source": [
    "simpan model dengan format .h5"
   ]
  },
  {
   "cell_type": "code",
   "execution_count": 667,
   "metadata": {},
   "outputs": [],
   "source": [
    "#model.save('model.h5')"
   ]
  },
  {
   "cell_type": "markdown",
   "metadata": {},
   "source": [
    "simpan model dengan format .json,\n",
    "jika gagal coba jalankan di google colaboratory"
   ]
  },
  {
   "cell_type": "code",
   "execution_count": 668,
   "metadata": {},
   "outputs": [
    {
     "data": {
      "text/plain": [
       "\"\\nfrom zipfile import ZipFile\\nimport os\\n\\nwith ZipFile('tfjs_model.zip', 'w') as z:\\n  for filename in os.listdir('tfjs_model'): \\n    filepath = os.path.join('tfjs_model', filename)\\n    z.write(filepath)\\n\""
      ]
     },
     "execution_count": 668,
     "metadata": {},
     "output_type": "execute_result"
    }
   ],
   "source": [
    "'''\n",
    "from zipfile import ZipFile\n",
    "import os\n",
    "\n",
    "with ZipFile('tfjs_model.zip', 'w') as z:\n",
    "  for filename in os.listdir('tfjs_model'): \n",
    "    filepath = os.path.join('tfjs_model', filename)\n",
    "    z.write(filepath)\n",
    "'''"
   ]
  }
 ],
 "metadata": {
  "kernelspec": {
   "display_name": "Python 3.9.12 64-bit",
   "language": "python",
   "name": "python3"
  },
  "language_info": {
   "codemirror_mode": {
    "name": "ipython",
    "version": 3
   },
   "file_extension": ".py",
   "mimetype": "text/x-python",
   "name": "python",
   "nbconvert_exporter": "python",
   "pygments_lexer": "ipython3",
   "version": "3.9.12"
  },
  "orig_nbformat": 4,
  "vscode": {
   "interpreter": {
    "hash": "11938c6bc6919ae2720b4d5011047913343b08a43b18698fd82dedb0d4417594"
   }
  }
 },
 "nbformat": 4,
 "nbformat_minor": 2
}
