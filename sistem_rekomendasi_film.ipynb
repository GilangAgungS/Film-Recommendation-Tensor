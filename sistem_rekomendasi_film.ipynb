{
 "cells": [
  {
   "cell_type": "markdown",
   "metadata": {},
   "source": [
    "# Sistem Rekomendasi Film dengan TensorFlow\n",
    "source: https://www.youtube.com/watch?v=6N2vo3JZg2c&list=PL3VpLbLyLE56IVsWwn_rlv9IGGNiyab9e&t=4127s\n",
    "\n",
    "tahap dalam pembuatan sistem rekomendasi film:\n",
    "1. Load dataset\n",
    "2. Pisah data (train dan test)\n",
    "3. Membuat model\n",
    "4. Training model\n",
    "5. Mencoba Model yang Telah Dibuat\n",
    "5. Menyimpan model"
   ]
  },
  {
   "cell_type": "markdown",
   "metadata": {},
   "source": [
    "### Import library untuk dataset"
   ]
  },
  {
   "cell_type": "code",
   "execution_count": 49,
   "metadata": {},
   "outputs": [],
   "source": [
    "import pandas as pd\n",
    "import numpy as np\n",
    "import matplotlib.pyplot as plt\n",
    "import seaborn as sns"
   ]
  },
  {
   "cell_type": "markdown",
   "metadata": {},
   "source": [
    "### 1. Load dataset"
   ]
  },
  {
   "cell_type": "code",
   "execution_count": 50,
   "metadata": {},
   "outputs": [
    {
     "data": {
      "text/html": [
       "<div>\n",
       "<style scoped>\n",
       "    .dataframe tbody tr th:only-of-type {\n",
       "        vertical-align: middle;\n",
       "    }\n",
       "\n",
       "    .dataframe tbody tr th {\n",
       "        vertical-align: top;\n",
       "    }\n",
       "\n",
       "    .dataframe thead th {\n",
       "        text-align: right;\n",
       "    }\n",
       "</style>\n",
       "<table border=\"1\" class=\"dataframe\">\n",
       "  <thead>\n",
       "    <tr style=\"text-align: right;\">\n",
       "      <th></th>\n",
       "      <th>movie_id</th>\n",
       "      <th>user_id</th>\n",
       "      <th>user_rating</th>\n",
       "    </tr>\n",
       "  </thead>\n",
       "  <tbody>\n",
       "    <tr>\n",
       "      <th>93167</th>\n",
       "      <td>113</td>\n",
       "      <td>655</td>\n",
       "      <td>3.0</td>\n",
       "    </tr>\n",
       "    <tr>\n",
       "      <th>89654</th>\n",
       "      <td>253</td>\n",
       "      <td>622</td>\n",
       "      <td>3.0</td>\n",
       "    </tr>\n",
       "    <tr>\n",
       "      <th>42672</th>\n",
       "      <td>528</td>\n",
       "      <td>494</td>\n",
       "      <td>3.0</td>\n",
       "    </tr>\n",
       "    <tr>\n",
       "      <th>70447</th>\n",
       "      <td>284</td>\n",
       "      <td>432</td>\n",
       "      <td>4.0</td>\n",
       "    </tr>\n",
       "    <tr>\n",
       "      <th>8441</th>\n",
       "      <td>253</td>\n",
       "      <td>581</td>\n",
       "      <td>5.0</td>\n",
       "    </tr>\n",
       "  </tbody>\n",
       "</table>\n",
       "</div>"
      ],
      "text/plain": [
       "       movie_id  user_id  user_rating\n",
       "93167       113      655          3.0\n",
       "89654       253      622          3.0\n",
       "42672       528      494          3.0\n",
       "70447       284      432          4.0\n",
       "8441        253      581          5.0"
      ]
     },
     "execution_count": 50,
     "metadata": {},
     "output_type": "execute_result"
    }
   ],
   "source": [
    "ratings = pd.read_csv('ratings.csv')\n",
    "ratings.sample(5)"
   ]
  },
  {
   "cell_type": "code",
   "execution_count": 51,
   "metadata": {},
   "outputs": [
    {
     "data": {
      "text/html": [
       "<div>\n",
       "<style scoped>\n",
       "    .dataframe tbody tr th:only-of-type {\n",
       "        vertical-align: middle;\n",
       "    }\n",
       "\n",
       "    .dataframe tbody tr th {\n",
       "        vertical-align: top;\n",
       "    }\n",
       "\n",
       "    .dataframe thead th {\n",
       "        text-align: right;\n",
       "    }\n",
       "</style>\n",
       "<table border=\"1\" class=\"dataframe\">\n",
       "  <thead>\n",
       "    <tr style=\"text-align: right;\">\n",
       "      <th></th>\n",
       "      <th>movie_id</th>\n",
       "      <th>movie_title</th>\n",
       "      <th>movie_genres_str</th>\n",
       "    </tr>\n",
       "  </thead>\n",
       "  <tbody>\n",
       "    <tr>\n",
       "      <th>985</th>\n",
       "      <td>986</td>\n",
       "      <td>Turbulence (1997)</td>\n",
       "      <td>['Thriller']</td>\n",
       "    </tr>\n",
       "    <tr>\n",
       "      <th>447</th>\n",
       "      <td>448</td>\n",
       "      <td>Omen, The (1976)</td>\n",
       "      <td>['Film-Noir']</td>\n",
       "    </tr>\n",
       "    <tr>\n",
       "      <th>998</th>\n",
       "      <td>999</td>\n",
       "      <td>Clean Slate (1994)</td>\n",
       "      <td>[\"Children's\"]</td>\n",
       "    </tr>\n",
       "    <tr>\n",
       "      <th>399</th>\n",
       "      <td>400</td>\n",
       "      <td>Little Rascals, The (1994)</td>\n",
       "      <td>['Animation', \"Children's\"]</td>\n",
       "    </tr>\n",
       "    <tr>\n",
       "      <th>752</th>\n",
       "      <td>753</td>\n",
       "      <td>Burnt By the Sun (1994)</td>\n",
       "      <td>['Documentary']</td>\n",
       "    </tr>\n",
       "  </tbody>\n",
       "</table>\n",
       "</div>"
      ],
      "text/plain": [
       "     movie_id                 movie_title             movie_genres_str\n",
       "985       986           Turbulence (1997)                 ['Thriller']\n",
       "447       448            Omen, The (1976)                ['Film-Noir']\n",
       "998       999          Clean Slate (1994)               [\"Children's\"]\n",
       "399       400  Little Rascals, The (1994)  ['Animation', \"Children's\"]\n",
       "752       753     Burnt By the Sun (1994)              ['Documentary']"
      ]
     },
     "execution_count": 51,
     "metadata": {},
     "output_type": "execute_result"
    }
   ],
   "source": [
    "movies = pd.read_csv('movies.csv')\n",
    "movies.sample(5)"
   ]
  },
  {
   "cell_type": "code",
   "execution_count": 52,
   "metadata": {},
   "outputs": [
    {
     "name": "stdout",
     "output_type": "stream",
     "text": [
      "jumlah film: 1682\n",
      "jumlah user: 943\n",
      "\n",
      "jumlah rating yang diberikan:\n",
      "5.0    21201\n",
      "4.0    34174\n",
      "3.0    27145\n",
      "2.0    11370\n",
      "1.0     6110\n",
      "Name: user_rating, dtype: int64\n"
     ]
    },
    {
     "data": {
      "image/png": "[encoded data removed]",
      "text/plain": [
       "<Figure size 432x288 with 1 Axes>"
      ]
     },
     "metadata": {
      "needs_background": "light"
     },
     "output_type": "display_data"
    }
   ],
   "source": [
    "#melihat jumlah film dan user\n",
    "jml_movie = movies['movie_id'].nunique()\n",
    "jml_user = ratings['user_id'].nunique()\n",
    "print(\"jumlah film:\", jml_movie)\n",
    "print(\"jumlah user:\", jml_user)\n",
    "\n",
    "#melihat jumlah rating yang diberikan \n",
    "sns.countplot(data=ratings, x='user_rating').set_title('Jumlah Rating yang diberikan')\n",
    "print('\\njumlah rating yang diberikan:')\n",
    "print(ratings['user_rating'].value_counts().sort_index(ascending=False))\n"
   ]
  },
  {
   "cell_type": "markdown",
   "metadata": {},
   "source": [
    "informasi: \n",
    "- Data film sebanyak 1682 data, dengan 943 user\n",
    "- Jumlah rating terbanyak adalah 4, dan paling sedikit adalah 1"
   ]
  },
  {
   "cell_type": "markdown",
   "metadata": {},
   "source": [
    "### 2. Pisah data (train dan test)"
   ]
  },
  {
   "cell_type": "code",
   "execution_count": 53,
   "metadata": {},
   "outputs": [
    {
     "name": "stdout",
     "output_type": "stream",
     "text": [
      "jumlah data train: (80000, 3)\n",
      "jumlah data test : (20000, 3)\n"
     ]
    }
   ],
   "source": [
    "from sklearn.model_selection import train_test_split\n",
    "data_train, data_test = train_test_split(ratings, test_size=0.2, random_state=42)\n",
    "\n",
    "print(\"jumlah data train:\", data_train.shape)\n",
    "print(\"jumlah data test :\", data_test.shape)"
   ]
  },
  {
   "cell_type": "code",
   "execution_count": 54,
   "metadata": {},
   "outputs": [
    {
     "data": {
      "text/html": [
       "<div>\n",
       "<style scoped>\n",
       "    .dataframe tbody tr th:only-of-type {\n",
       "        vertical-align: middle;\n",
       "    }\n",
       "\n",
       "    .dataframe tbody tr th {\n",
       "        vertical-align: top;\n",
       "    }\n",
       "\n",
       "    .dataframe thead th {\n",
       "        text-align: right;\n",
       "    }\n",
       "</style>\n",
       "<table border=\"1\" class=\"dataframe\">\n",
       "  <thead>\n",
       "    <tr style=\"text-align: right;\">\n",
       "      <th></th>\n",
       "      <th>movie_id</th>\n",
       "      <th>user_id</th>\n",
       "      <th>user_rating</th>\n",
       "    </tr>\n",
       "  </thead>\n",
       "  <tbody>\n",
       "    <tr>\n",
       "      <th>75220</th>\n",
       "      <td>1016</td>\n",
       "      <td>109</td>\n",
       "      <td>5.0</td>\n",
       "    </tr>\n",
       "    <tr>\n",
       "      <th>48955</th>\n",
       "      <td>64</td>\n",
       "      <td>316</td>\n",
       "      <td>4.0</td>\n",
       "    </tr>\n",
       "    <tr>\n",
       "      <th>44966</th>\n",
       "      <td>89</td>\n",
       "      <td>200</td>\n",
       "      <td>5.0</td>\n",
       "    </tr>\n",
       "    <tr>\n",
       "      <th>13568</th>\n",
       "      <td>174</td>\n",
       "      <td>109</td>\n",
       "      <td>5.0</td>\n",
       "    </tr>\n",
       "    <tr>\n",
       "      <th>92727</th>\n",
       "      <td>204</td>\n",
       "      <td>788</td>\n",
       "      <td>3.0</td>\n",
       "    </tr>\n",
       "    <tr>\n",
       "      <th>...</th>\n",
       "      <td>...</td>\n",
       "      <td>...</td>\n",
       "      <td>...</td>\n",
       "    </tr>\n",
       "    <tr>\n",
       "      <th>6265</th>\n",
       "      <td>125</td>\n",
       "      <td>25</td>\n",
       "      <td>5.0</td>\n",
       "    </tr>\n",
       "    <tr>\n",
       "      <th>54886</th>\n",
       "      <td>156</td>\n",
       "      <td>704</td>\n",
       "      <td>3.0</td>\n",
       "    </tr>\n",
       "    <tr>\n",
       "      <th>76820</th>\n",
       "      <td>288</td>\n",
       "      <td>422</td>\n",
       "      <td>3.0</td>\n",
       "    </tr>\n",
       "    <tr>\n",
       "      <th>860</th>\n",
       "      <td>168</td>\n",
       "      <td>198</td>\n",
       "      <td>4.0</td>\n",
       "    </tr>\n",
       "    <tr>\n",
       "      <th>15795</th>\n",
       "      <td>864</td>\n",
       "      <td>181</td>\n",
       "      <td>2.0</td>\n",
       "    </tr>\n",
       "  </tbody>\n",
       "</table>\n",
       "<p>80000 rows × 3 columns</p>\n",
       "</div>"
      ],
      "text/plain": [
       "       movie_id  user_id  user_rating\n",
       "75220      1016      109          5.0\n",
       "48955        64      316          4.0\n",
       "44966        89      200          5.0\n",
       "13568       174      109          5.0\n",
       "92727       204      788          3.0\n",
       "...         ...      ...          ...\n",
       "6265        125       25          5.0\n",
       "54886       156      704          3.0\n",
       "76820       288      422          3.0\n",
       "860         168      198          4.0\n",
       "15795       864      181          2.0\n",
       "\n",
       "[80000 rows x 3 columns]"
      ]
     },
     "execution_count": 54,
     "metadata": {},
     "output_type": "execute_result"
    }
   ],
   "source": [
    "data_train"
   ]
  },
  {
   "cell_type": "code",
   "execution_count": 55,
   "metadata": {},
   "outputs": [
    {
     "data": {
      "text/html": [
       "<div>\n",
       "<style scoped>\n",
       "    .dataframe tbody tr th:only-of-type {\n",
       "        vertical-align: middle;\n",
       "    }\n",
       "\n",
       "    .dataframe tbody tr th {\n",
       "        vertical-align: top;\n",
       "    }\n",
       "\n",
       "    .dataframe thead th {\n",
       "        text-align: right;\n",
       "    }\n",
       "</style>\n",
       "<table border=\"1\" class=\"dataframe\">\n",
       "  <thead>\n",
       "    <tr style=\"text-align: right;\">\n",
       "      <th></th>\n",
       "      <th>movie_id</th>\n",
       "      <th>user_id</th>\n",
       "      <th>user_rating</th>\n",
       "    </tr>\n",
       "  </thead>\n",
       "  <tbody>\n",
       "    <tr>\n",
       "      <th>75721</th>\n",
       "      <td>876</td>\n",
       "      <td>817</td>\n",
       "      <td>4.0</td>\n",
       "    </tr>\n",
       "    <tr>\n",
       "      <th>80184</th>\n",
       "      <td>580</td>\n",
       "      <td>83</td>\n",
       "      <td>4.0</td>\n",
       "    </tr>\n",
       "    <tr>\n",
       "      <th>19864</th>\n",
       "      <td>393</td>\n",
       "      <td>389</td>\n",
       "      <td>2.0</td>\n",
       "    </tr>\n",
       "    <tr>\n",
       "      <th>76699</th>\n",
       "      <td>54</td>\n",
       "      <td>774</td>\n",
       "      <td>1.0</td>\n",
       "    </tr>\n",
       "    <tr>\n",
       "      <th>92991</th>\n",
       "      <td>420</td>\n",
       "      <td>712</td>\n",
       "      <td>3.0</td>\n",
       "    </tr>\n",
       "    <tr>\n",
       "      <th>...</th>\n",
       "      <td>...</td>\n",
       "      <td>...</td>\n",
       "      <td>...</td>\n",
       "    </tr>\n",
       "    <tr>\n",
       "      <th>32595</th>\n",
       "      <td>144</td>\n",
       "      <td>823</td>\n",
       "      <td>5.0</td>\n",
       "    </tr>\n",
       "    <tr>\n",
       "      <th>29313</th>\n",
       "      <td>639</td>\n",
       "      <td>339</td>\n",
       "      <td>4.0</td>\n",
       "    </tr>\n",
       "    <tr>\n",
       "      <th>37862</th>\n",
       "      <td>222</td>\n",
       "      <td>763</td>\n",
       "      <td>5.0</td>\n",
       "    </tr>\n",
       "    <tr>\n",
       "      <th>53421</th>\n",
       "      <td>419</td>\n",
       "      <td>399</td>\n",
       "      <td>3.0</td>\n",
       "    </tr>\n",
       "    <tr>\n",
       "      <th>42410</th>\n",
       "      <td>340</td>\n",
       "      <td>294</td>\n",
       "      <td>4.0</td>\n",
       "    </tr>\n",
       "  </tbody>\n",
       "</table>\n",
       "<p>20000 rows × 3 columns</p>\n",
       "</div>"
      ],
      "text/plain": [
       "       movie_id  user_id  user_rating\n",
       "75721       876      817          4.0\n",
       "80184       580       83          4.0\n",
       "19864       393      389          2.0\n",
       "76699        54      774          1.0\n",
       "92991       420      712          3.0\n",
       "...         ...      ...          ...\n",
       "32595       144      823          5.0\n",
       "29313       639      339          4.0\n",
       "37862       222      763          5.0\n",
       "53421       419      399          3.0\n",
       "42410       340      294          4.0\n",
       "\n",
       "[20000 rows x 3 columns]"
      ]
     },
     "execution_count": 55,
     "metadata": {},
     "output_type": "execute_result"
    }
   ],
   "source": [
    "data_test"
   ]
  },
  {
   "cell_type": "markdown",
   "metadata": {},
   "source": [
    "### 3. Membuat Model\n",
    "\n",
    "dalam tensorflow keras model terdapat input layer, hidden layer, dan output layer\n",
    "\n",
    "data masuk ke input layer, kemudian diolah oleh hidden layer, dan hasilnya akan keluar dari output layer\n",
    "\n",
    "hasil yang dikeluarkan oleh output layer adalah nilai prediksi"
   ]
  },
  {
   "cell_type": "code",
   "execution_count": 56,
   "metadata": {},
   "outputs": [],
   "source": [
    "#import tensorflow keras\n",
    "from tensorflow.keras.models import Model \n",
    "from tensorflow.keras.layers import Input, Embedding, Flatten, Dot\n",
    "\n",
    "#membuat input layer dari movie dan user, ukuran masing-masing input adalah 1\n",
    "movie_input = Input(shape=[1])\n",
    "user_input = Input(shape=[1])\n",
    "\n",
    "#membuat embedding layer untuk movie dan user\n",
    "#semakin banyak size embedding, semakin banyak informasi yang dapat dikenali oleh model\n",
    "#semakin banyak size embedding, rawan untuk overfitting\n",
    "#jika size embedding terlalu kecil, maka model akan menghafalkan data, sarannya jadi itu-itu aja\n",
    "embedding_size = 40\n",
    "movie_embedding = Embedding(jml_movie+1, embedding_size)(movie_input)\n",
    "user_embedding = Embedding(jml_user+1, embedding_size)(user_input)\n",
    "\n",
    "#membuat flatten layer\n",
    "#flatten layer bertujuan untuk mengubah bentuk data menjadi 1 dimensi\n",
    "movie_flatten = Flatten()(movie_embedding)\n",
    "user_flatten = Flatten()(user_embedding)\n",
    "\n",
    "#membuat output layer\n",
    "#output layer bertujuan untuk menghasilkan nilai rating\n",
    "output = Dot(axes=1)([movie_flatten, user_flatten])\n",
    "\n",
    "#membuat model\n",
    "model = Model([movie_input, user_input], output)\n"
   ]
  },
  {
   "cell_type": "code",
   "execution_count": 57,
   "metadata": {},
   "outputs": [
    {
     "name": "stdout",
     "output_type": "stream",
     "text": [
      "Model: \"model_3\"\n",
      "__________________________________________________________________________________________________\n",
      " Layer (type)                   Output Shape         Param #     Connected to                     \n",
      "==================================================================================================\n",
      " input_7 (InputLayer)           [(None, 1)]          0           []                               \n",
      "                                                                                                  \n",
      " input_8 (InputLayer)           [(None, 1)]          0           []                               \n",
      "                                                                                                  \n",
      " embedding_6 (Embedding)        (None, 1, 40)        67320       ['input_7[0][0]']                \n",
      "                                                                                                  \n",
      " embedding_7 (Embedding)        (None, 1, 40)        37760       ['input_8[0][0]']                \n",
      "                                                                                                  \n",
      " flatten_6 (Flatten)            (None, 40)           0           ['embedding_6[0][0]']            \n",
      "                                                                                                  \n",
      " flatten_7 (Flatten)            (None, 40)           0           ['embedding_7[0][0]']            \n",
      "                                                                                                  \n",
      " dot_3 (Dot)                    (None, 1)            0           ['flatten_6[0][0]',              \n",
      "                                                                  'flatten_7[0][0]']              \n",
      "                                                                                                  \n",
      "==================================================================================================\n",
      "Total params: 105,080\n",
      "Trainable params: 105,080\n",
      "Non-trainable params: 0\n",
      "__________________________________________________________________________________________________\n"
     ]
    }
   ],
   "source": [
    "model.summary()"
   ]
  },
  {
   "cell_type": "markdown",
   "metadata": {},
   "source": [
    "### 4. Training Model"
   ]
  },
  {
   "cell_type": "code",
   "execution_count": 58,
   "metadata": {},
   "outputs": [],
   "source": [
    "from tensorflow.keras.optimizers import Adam\n",
    "model.compile(optimizer='adam', loss='mse')"
   ]
  },
  {
   "cell_type": "code",
   "execution_count": 59,
   "metadata": {},
   "outputs": [
    {
     "name": "stdout",
     "output_type": "stream",
     "text": [
      "Epoch 1/20\n",
      "313/313 [==============================] - 1s 2ms/step - loss: 13.3495 - val_loss: 11.1452\n",
      "Epoch 2/20\n",
      "313/313 [==============================] - 1s 2ms/step - loss: 5.3946 - val_loss: 2.0376\n",
      "Epoch 3/20\n",
      "313/313 [==============================] - 1s 2ms/step - loss: 1.4793 - val_loss: 1.1958\n",
      "Epoch 4/20\n",
      "313/313 [==============================] - 1s 2ms/step - loss: 1.0605 - val_loss: 1.0140\n",
      "Epoch 5/20\n",
      "313/313 [==============================] - 1s 2ms/step - loss: 0.9425 - val_loss: 0.9521\n",
      "Epoch 6/20\n",
      "313/313 [==============================] - 1s 2ms/step - loss: 0.8931 - val_loss: 0.9275\n",
      "Epoch 7/20\n",
      "313/313 [==============================] - 1s 2ms/step - loss: 0.8655 - val_loss: 0.9114\n",
      "Epoch 8/20\n",
      "313/313 [==============================] - 1s 2ms/step - loss: 0.8442 - val_loss: 0.9001\n",
      "Epoch 9/20\n",
      "313/313 [==============================] - 1s 2ms/step - loss: 0.8250 - val_loss: 0.8908\n",
      "Epoch 10/20\n",
      "313/313 [==============================] - 1s 2ms/step - loss: 0.8071 - val_loss: 0.8830\n",
      "Epoch 11/20\n",
      "313/313 [==============================] - 1s 2ms/step - loss: 0.7886 - val_loss: 0.8774\n",
      "Epoch 12/20\n",
      "313/313 [==============================] - 1s 2ms/step - loss: 0.7708 - val_loss: 0.8718\n",
      "Epoch 13/20\n",
      "313/313 [==============================] - 1s 2ms/step - loss: 0.7537 - val_loss: 0.8679\n",
      "Epoch 14/20\n",
      "313/313 [==============================] - 1s 2ms/step - loss: 0.7377 - val_loss: 0.8649\n",
      "Epoch 15/20\n",
      "313/313 [==============================] - 1s 2ms/step - loss: 0.7229 - val_loss: 0.8627\n",
      "Epoch 16/20\n",
      "313/313 [==============================] - 1s 2ms/step - loss: 0.7082 - val_loss: 0.8613\n",
      "Epoch 17/20\n",
      "313/313 [==============================] - 1s 2ms/step - loss: 0.6942 - val_loss: 0.8609\n",
      "Epoch 18/20\n",
      "313/313 [==============================] - 1s 2ms/step - loss: 0.6801 - val_loss: 0.8590\n",
      "Epoch 19/20\n",
      "313/313 [==============================] - 1s 2ms/step - loss: 0.6662 - val_loss: 0.8583\n",
      "Epoch 20/20\n",
      "313/313 [==============================] - 1s 2ms/step - loss: 0.6521 - val_loss: 0.8584\n"
     ]
    }
   ],
   "source": [
    "#training model\n",
    "history = model.fit(x=[data_train.movie_id, data_train.user_id], y=data_train.user_rating, \n",
    "                    validation_data=([data_test.movie_id, data_test.user_id], data_test.user_rating),\n",
    "                    epochs=20, \n",
    "                    batch_size=256, \n",
    "                    verbose=1)"
   ]
  },
  {
   "cell_type": "code",
   "execution_count": 60,
   "metadata": {},
   "outputs": [
    {
     "data": {
      "text/plain": [
       "[<matplotlib.lines.Line2D at 0x23ae5735dc0>,\n",
       " <matplotlib.lines.Line2D at 0x23ae5735e20>]"
      ]
     },
     "execution_count": 60,
     "metadata": {},
     "output_type": "execute_result"
    },
    {
     "data": {
      "image/png": "[encoded data removed]",
      "text/plain": [
       "<Figure size 432x288 with 1 Axes>"
      ]
     },
     "metadata": {
      "needs_background": "light"
     },
     "output_type": "display_data"
    }
   ],
   "source": [
    "import matplotlib.pyplot as plt\n",
    "losses = pd.DataFrame(history.history)\n",
    "plt.plot(losses)"
   ]
  },
  {
   "cell_type": "code",
   "execution_count": 65,
   "metadata": {},
   "outputs": [
    {
     "name": "stdout",
     "output_type": "stream",
     "text": [
      "625/625 [==============================] - 1s 1ms/step - loss: 0.8584\n"
     ]
    },
    {
     "data": {
      "text/plain": [
       "0.8584487438201904"
      ]
     },
     "execution_count": 65,
     "metadata": {},
     "output_type": "execute_result"
    }
   ],
   "source": [
    "#evaluasi model\n",
    "model.evaluate([data_test.movie_id, data_test.user_id], data_test.user_rating)"
   ]
  },
  {
   "cell_type": "code",
   "execution_count": 79,
   "metadata": {},
   "outputs": [
    {
     "name": "stdout",
     "output_type": "stream",
     "text": [
      "625/625 [==============================] - 1s 852us/step\n"
     ]
    },
    {
     "data": {
      "text/html": [
       "<div>\n",
       "<style scoped>\n",
       "    .dataframe tbody tr th:only-of-type {\n",
       "        vertical-align: middle;\n",
       "    }\n",
       "\n",
       "    .dataframe tbody tr th {\n",
       "        vertical-align: top;\n",
       "    }\n",
       "\n",
       "    .dataframe thead th {\n",
       "        text-align: right;\n",
       "    }\n",
       "</style>\n",
       "<table border=\"1\" class=\"dataframe\">\n",
       "  <thead>\n",
       "    <tr style=\"text-align: right;\">\n",
       "      <th></th>\n",
       "      <th>prediksi</th>\n",
       "      <th>user_rating</th>\n",
       "      <th>selisih</th>\n",
       "    </tr>\n",
       "  </thead>\n",
       "  <tbody>\n",
       "    <tr>\n",
       "      <th>12009</th>\n",
       "      <td>4.805668</td>\n",
       "      <td>5.0</td>\n",
       "      <td>-0.194332</td>\n",
       "    </tr>\n",
       "    <tr>\n",
       "      <th>4891</th>\n",
       "      <td>4.324365</td>\n",
       "      <td>5.0</td>\n",
       "      <td>-0.675635</td>\n",
       "    </tr>\n",
       "    <tr>\n",
       "      <th>18241</th>\n",
       "      <td>3.462663</td>\n",
       "      <td>2.0</td>\n",
       "      <td>1.462663</td>\n",
       "    </tr>\n",
       "    <tr>\n",
       "      <th>1366</th>\n",
       "      <td>4.521601</td>\n",
       "      <td>4.0</td>\n",
       "      <td>0.521601</td>\n",
       "    </tr>\n",
       "    <tr>\n",
       "      <th>13312</th>\n",
       "      <td>3.870317</td>\n",
       "      <td>5.0</td>\n",
       "      <td>-1.129683</td>\n",
       "    </tr>\n",
       "    <tr>\n",
       "      <th>6340</th>\n",
       "      <td>3.578136</td>\n",
       "      <td>4.0</td>\n",
       "      <td>-0.421864</td>\n",
       "    </tr>\n",
       "    <tr>\n",
       "      <th>12085</th>\n",
       "      <td>4.173173</td>\n",
       "      <td>5.0</td>\n",
       "      <td>-0.826827</td>\n",
       "    </tr>\n",
       "    <tr>\n",
       "      <th>2600</th>\n",
       "      <td>5.100503</td>\n",
       "      <td>5.0</td>\n",
       "      <td>0.100503</td>\n",
       "    </tr>\n",
       "    <tr>\n",
       "      <th>9552</th>\n",
       "      <td>3.653144</td>\n",
       "      <td>2.0</td>\n",
       "      <td>1.653144</td>\n",
       "    </tr>\n",
       "    <tr>\n",
       "      <th>1563</th>\n",
       "      <td>0.978603</td>\n",
       "      <td>1.0</td>\n",
       "      <td>-0.021397</td>\n",
       "    </tr>\n",
       "    <tr>\n",
       "      <th>10604</th>\n",
       "      <td>3.531166</td>\n",
       "      <td>3.0</td>\n",
       "      <td>0.531166</td>\n",
       "    </tr>\n",
       "    <tr>\n",
       "      <th>10199</th>\n",
       "      <td>3.670359</td>\n",
       "      <td>4.0</td>\n",
       "      <td>-0.329641</td>\n",
       "    </tr>\n",
       "    <tr>\n",
       "      <th>1588</th>\n",
       "      <td>2.399539</td>\n",
       "      <td>2.0</td>\n",
       "      <td>0.399539</td>\n",
       "    </tr>\n",
       "    <tr>\n",
       "      <th>7627</th>\n",
       "      <td>3.108286</td>\n",
       "      <td>4.0</td>\n",
       "      <td>-0.891714</td>\n",
       "    </tr>\n",
       "    <tr>\n",
       "      <th>17950</th>\n",
       "      <td>4.200854</td>\n",
       "      <td>3.0</td>\n",
       "      <td>1.200854</td>\n",
       "    </tr>\n",
       "    <tr>\n",
       "      <th>17709</th>\n",
       "      <td>2.296585</td>\n",
       "      <td>3.0</td>\n",
       "      <td>-0.703415</td>\n",
       "    </tr>\n",
       "    <tr>\n",
       "      <th>1970</th>\n",
       "      <td>4.515784</td>\n",
       "      <td>4.0</td>\n",
       "      <td>0.515784</td>\n",
       "    </tr>\n",
       "    <tr>\n",
       "      <th>16229</th>\n",
       "      <td>5.938320</td>\n",
       "      <td>5.0</td>\n",
       "      <td>0.938320</td>\n",
       "    </tr>\n",
       "    <tr>\n",
       "      <th>8254</th>\n",
       "      <td>2.462150</td>\n",
       "      <td>3.0</td>\n",
       "      <td>-0.537850</td>\n",
       "    </tr>\n",
       "    <tr>\n",
       "      <th>17722</th>\n",
       "      <td>4.280697</td>\n",
       "      <td>4.0</td>\n",
       "      <td>0.280697</td>\n",
       "    </tr>\n",
       "  </tbody>\n",
       "</table>\n",
       "</div>"
      ],
      "text/plain": [
       "       prediksi  user_rating   selisih\n",
       "12009  4.805668          5.0 -0.194332\n",
       "4891   4.324365          5.0 -0.675635\n",
       "18241  3.462663          2.0  1.462663\n",
       "1366   4.521601          4.0  0.521601\n",
       "13312  3.870317          5.0 -1.129683\n",
       "6340   3.578136          4.0 -0.421864\n",
       "12085  4.173173          5.0 -0.826827\n",
       "2600   5.100503          5.0  0.100503\n",
       "9552   3.653144          2.0  1.653144\n",
       "1563   0.978603          1.0 -0.021397\n",
       "10604  3.531166          3.0  0.531166\n",
       "10199  3.670359          4.0 -0.329641\n",
       "1588   2.399539          2.0  0.399539\n",
       "7627   3.108286          4.0 -0.891714\n",
       "17950  4.200854          3.0  1.200854\n",
       "17709  2.296585          3.0 -0.703415\n",
       "1970   4.515784          4.0  0.515784\n",
       "16229  5.938320          5.0  0.938320\n",
       "8254   2.462150          3.0 -0.537850\n",
       "17722  4.280697          4.0  0.280697"
      ]
     },
     "execution_count": 79,
     "metadata": {},
     "output_type": "execute_result"
    }
   ],
   "source": [
    "#melihat beberapa perbandingan nilai rating yang sebenarnya dan nilai rating yang diprediksi\n",
    "prediksi = model.predict([data_test.movie_id, data_test.user_id])\n",
    "prediksi = prediksi.reshape(-1)\n",
    "prediksi = pd.DataFrame(prediksi, columns=['prediksi'])\n",
    "prediksi['user_rating'] = data_test['user_rating'].values\n",
    "prediksi['selisih'] = prediksi['prediksi'] - prediksi['user_rating']\n",
    "prediksi.sample(20)"
   ]
  },
  {
   "cell_type": "markdown",
   "metadata": {},
   "source": [
    "### 5. Mencoba Model yang Telah Dibuat"
   ]
  },
  {
   "cell_type": "code",
   "execution_count": 84,
   "metadata": {},
   "outputs": [
    {
     "name": "stdout",
     "output_type": "stream",
     "text": [
      "rekomendasi untuk user 712\n"
     ]
    },
    {
     "data": {
      "text/html": [
       "<div>\n",
       "<style scoped>\n",
       "    .dataframe tbody tr th:only-of-type {\n",
       "        vertical-align: middle;\n",
       "    }\n",
       "\n",
       "    .dataframe tbody tr th {\n",
       "        vertical-align: top;\n",
       "    }\n",
       "\n",
       "    .dataframe thead th {\n",
       "        text-align: right;\n",
       "    }\n",
       "</style>\n",
       "<table border=\"1\" class=\"dataframe\">\n",
       "  <thead>\n",
       "    <tr style=\"text-align: right;\">\n",
       "      <th></th>\n",
       "      <th>movie_id</th>\n",
       "      <th>movie_title</th>\n",
       "      <th>movie_genres_str</th>\n",
       "      <th>predicted_rating</th>\n",
       "    </tr>\n",
       "  </thead>\n",
       "  <tbody>\n",
       "    <tr>\n",
       "      <th>142</th>\n",
       "      <td>143</td>\n",
       "      <td>Sound of Music, The (1965)</td>\n",
       "      <td>['Musical']</td>\n",
       "      <td>4.990651</td>\n",
       "    </tr>\n",
       "    <tr>\n",
       "      <th>120</th>\n",
       "      <td>121</td>\n",
       "      <td>Independence Day (ID4) (1996)</td>\n",
       "      <td>['unknown', 'Sci-Fi', 'Western']</td>\n",
       "      <td>4.939096</td>\n",
       "    </tr>\n",
       "    <tr>\n",
       "      <th>401</th>\n",
       "      <td>402</td>\n",
       "      <td>Ghost (1990)</td>\n",
       "      <td>[\"Children's\", 'Romance', 'Thriller']</td>\n",
       "      <td>4.935175</td>\n",
       "    </tr>\n",
       "    <tr>\n",
       "      <th>391</th>\n",
       "      <td>392</td>\n",
       "      <td>Man Without a Face, The (1993)</td>\n",
       "      <td>['Documentary']</td>\n",
       "      <td>4.919121</td>\n",
       "    </tr>\n",
       "    <tr>\n",
       "      <th>65</th>\n",
       "      <td>66</td>\n",
       "      <td>While You Were Sleeping (1995)</td>\n",
       "      <td>[\"Children's\", 'Romance']</td>\n",
       "      <td>4.859806</td>\n",
       "    </tr>\n",
       "    <tr>\n",
       "      <th>719</th>\n",
       "      <td>720</td>\n",
       "      <td>First Knight (1995)</td>\n",
       "      <td>['unknown', 'Action', 'Documentary', 'Romance']</td>\n",
       "      <td>4.764417</td>\n",
       "    </tr>\n",
       "    <tr>\n",
       "      <th>691</th>\n",
       "      <td>692</td>\n",
       "      <td>American President, The (1995)</td>\n",
       "      <td>[\"Children's\", 'Documentary', 'Romance']</td>\n",
       "      <td>4.763218</td>\n",
       "    </tr>\n",
       "    <tr>\n",
       "      <th>965</th>\n",
       "      <td>966</td>\n",
       "      <td>Affair to Remember, An (1957)</td>\n",
       "      <td>['Romance']</td>\n",
       "      <td>4.754288</td>\n",
       "    </tr>\n",
       "    <tr>\n",
       "      <th>738</th>\n",
       "      <td>739</td>\n",
       "      <td>Pretty Woman (1990)</td>\n",
       "      <td>[\"Children's\", 'Romance']</td>\n",
       "      <td>4.748395</td>\n",
       "    </tr>\n",
       "    <tr>\n",
       "      <th>70</th>\n",
       "      <td>71</td>\n",
       "      <td>Lion King, The (1994)</td>\n",
       "      <td>['Adventure', 'Animation', 'Musical']</td>\n",
       "      <td>4.713131</td>\n",
       "    </tr>\n",
       "  </tbody>\n",
       "</table>\n",
       "</div>"
      ],
      "text/plain": [
       "     movie_id                     movie_title  \\\n",
       "142       143      Sound of Music, The (1965)   \n",
       "120       121   Independence Day (ID4) (1996)   \n",
       "401       402                    Ghost (1990)   \n",
       "391       392  Man Without a Face, The (1993)   \n",
       "65         66  While You Were Sleeping (1995)   \n",
       "719       720             First Knight (1995)   \n",
       "691       692  American President, The (1995)   \n",
       "965       966   Affair to Remember, An (1957)   \n",
       "738       739             Pretty Woman (1990)   \n",
       "70         71           Lion King, The (1994)   \n",
       "\n",
       "                                    movie_genres_str  predicted_rating  \n",
       "142                                      ['Musical']          4.990651  \n",
       "120                 ['unknown', 'Sci-Fi', 'Western']          4.939096  \n",
       "401            [\"Children's\", 'Romance', 'Thriller']          4.935175  \n",
       "391                                  ['Documentary']          4.919121  \n",
       "65                         [\"Children's\", 'Romance']          4.859806  \n",
       "719  ['unknown', 'Action', 'Documentary', 'Romance']          4.764417  \n",
       "691         [\"Children's\", 'Documentary', 'Romance']          4.763218  \n",
       "965                                      ['Romance']          4.754288  \n",
       "738                        [\"Children's\", 'Romance']          4.748395  \n",
       "70             ['Adventure', 'Animation', 'Musical']          4.713131  "
      ]
     },
     "execution_count": 84,
     "metadata": {},
     "output_type": "execute_result"
    }
   ],
   "source": [
    "def get_recommendations(user_id, movies, model):\n",
    "  movies = movies.copy()\n",
    "  user_ids = np.array([user_id] * len(movies))\n",
    "  results = model([movies['movie_id'].values, user_ids]).numpy().reshape(-1)\n",
    "\n",
    "  movies['predicted_rating'] = pd.Series(results)\n",
    "  movies = movies.sort_values('predicted_rating', ascending=False)\n",
    "\n",
    "  print(f'rekomendasi untuk user {user_id}')\n",
    "  return movies\n",
    "\n",
    "get_recommendations(712, movies, model).head(10)"
   ]
  },
  {
   "cell_type": "markdown",
   "metadata": {},
   "source": [
    "### 6. Menyimpan Model"
   ]
  },
  {
   "cell_type": "markdown",
   "metadata": {},
   "source": [
    "simpan model dengan format .h5"
   ]
  },
  {
   "cell_type": "code",
   "execution_count": 85,
   "metadata": {},
   "outputs": [],
   "source": [
    "model.save('model.h5')"
   ]
  },
  {
   "cell_type": "markdown",
   "metadata": {},
   "source": [
    "simpan model dengan format .json,\n",
    "jika gagal coba jalankan di google colaboratory"
   ]
  },
  {
   "cell_type": "code",
   "execution_count": null,
   "metadata": {},
   "outputs": [],
   "source": [
    "# !pip install tensorflowjs\n",
    "# !tensorflowjs_converter --input_format=keras ./model.h5 ./tfjs_model"
   ]
  },
  {
   "cell_type": "code",
   "execution_count": null,
   "metadata": {},
   "outputs": [],
   "source": [
    "'''\n",
    "from zipfile import ZipFile\n",
    "import os\n",
    "\n",
    "with ZipFile('tfjs_model.zip', 'w') as z:\n",
    "  for filename in os.listdir('tfjs_model'): \n",
    "    filepath = os.path.join('tfjs_model', filename)\n",
    "    z.write(filepath)\n",
    "\n",
    "'''"
   ]
  }
 ],
 "metadata": {
  "kernelspec": {
   "display_name": "Python 3.9.12 64-bit",
   "language": "python",
   "name": "python3"
  },
  "language_info": {
   "codemirror_mode": {
    "name": "ipython",
    "version": 3
   },
   "file_extension": ".py",
   "mimetype": "text/x-python",
   "name": "python",
   "nbconvert_exporter": "python",
   "pygments_lexer": "ipython3",
   "version": "3.9.12"
  },
  "orig_nbformat": 4,
  "vscode": {
   "interpreter": {
    "hash": "11938c6bc6919ae2720b4d5011047913343b08a43b18698fd82dedb0d4417594"
   }
  }
 },
 "nbformat": 4,
 "nbformat_minor": 2
}
